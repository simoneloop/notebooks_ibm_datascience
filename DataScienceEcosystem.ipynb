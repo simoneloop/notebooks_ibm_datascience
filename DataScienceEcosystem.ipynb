{
 "cells": [
  {
   "cell_type": "markdown",
   "id": "a6788966-ae8b-48d6-b784-122b0ae73fc0",
   "metadata": {},
   "source": [
    "# Data Science Tools and Ecosystem"
   ]
  },
  {
   "cell_type": "markdown",
   "id": "ddd831f4-1dfe-4109-87d0-f38a4861502d",
   "metadata": {},
   "source": [
    "In this notebook, Data Science Tools and Ecosystem are summarized.\n",
    "\n",
    "**Objectives:**\r\n",
    "\r\n",
    "- List popular languages for Data Scienc\n",
    "- Identify key data science libraries.\n",
    "- Data science toolsce.\r\n",
    "- Convert units of measurement, such as minutes to hoience."
   ]
  },
  {
   "cell_type": "markdown",
   "id": "26fd110e-c4c1-4afe-8146-bb0a4bdcdb5b",
   "metadata": {},
   "source": [
    "Some of the popular languages that Data Scientists use are:\n",
    "\n",
    "1. Python: Widely regarded for its simplicity and versatility, Python is popular in data science for its robust libraries for data manipulation, machine learning, data visualization, and natural language processing, such as Pandas, Scikit-learn, Matplotlib, Seaborn, and TensorFlow.\r\n",
    "2. \r\n",
    "R: Specifically designed for statistical analysis and visualization, R is favored among statisticians and data analysts for its extensive library of packages for various statistical methods and its ability to work with large datasets   \n",
    "3. Julia: Known for its high performance, Julia is designed for numerical and computational science, offering speed that rivals traditional scripting languages like Python, with the capability to handle complex data manipulations and mathematical functions. tions."
   ]
  },
  {
   "cell_type": "markdown",
   "id": "bb637a43-43b3-4331-8119-c86c98dc7131",
   "metadata": {},
   "source": [
    "Some of the commonly used libraries used by Data Scientists include:\n",
    "\n",
    "1. Pandas\n",
    "\n",
    "2. NumPy\n",
    "\n",
    "3. Scikit-learn"
   ]
  },
  {
   "cell_type": "markdown",
   "id": "0397b7fc-b030-4045-bace-b633ea4eb200",
   "metadata": {},
   "source": [
    "| Data Science Tools |\n",
    "|--------------------|\n",
    "| Jupyter Notebooks  |\n",
    "| RStudio            |\n",
    "| Spyder             |"
   ]
  },
  {
   "cell_type": "markdown",
   "id": "3e3d0e44-4dc2-4529-aabd-68968950ad78",
   "metadata": {},
   "source": [
    "### Below are a few examples of evaluating arithmetic expressions in Python"
   ]
  },
  {
   "cell_type": "code",
   "execution_count": 2,
   "id": "cef95823-10a4-4249-be7d-cb94bb159e32",
   "metadata": {},
   "outputs": [
    {
     "data": {
      "text/plain": [
       "17"
      ]
     },
     "execution_count": 2,
     "metadata": {},
     "output_type": "execute_result"
    }
   ],
   "source": [
    "(3*4)+5"
   ]
  },
  {
   "cell_type": "code",
   "execution_count": 3,
   "id": "b6f6e549-f0fa-464a-923e-67702800a6b3",
   "metadata": {},
   "outputs": [
    {
     "data": {
      "text/plain": [
       "3.3333333333333335"
      ]
     },
     "execution_count": 3,
     "metadata": {},
     "output_type": "execute_result"
    }
   ],
   "source": [
    "# This will convert 200 minutes to hours by dividing by 60.\n",
    "200 / 60"
   ]
  },
  {
   "cell_type": "markdown",
   "id": "83dd8902-7b14-45b2-a334-5942518329c8",
   "metadata": {},
   "source": [
    "## Author\n",
    "Simonpaolo Lopez"
   ]
  },
  {
   "cell_type": "code",
   "execution_count": null,
   "id": "09225652-9a18-41ee-9f55-6d0a91956bb0",
   "metadata": {},
   "outputs": [],
   "source": []
  }
 ],
 "metadata": {
  "kernelspec": {
   "display_name": "Python 3 (ipykernel)",
   "language": "python",
   "name": "python3"
  },
  "language_info": {
   "codemirror_mode": {
    "name": "ipython",
    "version": 3
   },
   "file_extension": ".py",
   "mimetype": "text/x-python",
   "name": "python",
   "nbconvert_exporter": "python",
   "pygments_lexer": "ipython3",
   "version": "3.11.7"
  }
 },
 "nbformat": 4,
 "nbformat_minor": 5
}
